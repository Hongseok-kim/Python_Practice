{
  "nbformat": 4,
  "nbformat_minor": 0,
  "metadata": {
    "colab": {
      "provenance": [],
      "authorship_tag": "ABX9TyNNlhIRuIS/UolxEJ0Sbzei",
      "include_colab_link": true
    },
    "kernelspec": {
      "name": "python3",
      "display_name": "Python 3"
    },
    "language_info": {
      "name": "python"
    }
  },
  "cells": [
    {
      "cell_type": "markdown",
      "metadata": {
        "id": "view-in-github",
        "colab_type": "text"
      },
      "source": [
        "<a href=\"https://colab.research.google.com/github/Hongseok-kim/Python_Practice/blob/main/Python_Basic.ipynb\" target=\"_parent\"><img src=\"https://colab.research.google.com/assets/colab-badge.svg\" alt=\"Open In Colab\"/></a>"
      ]
    },
    {
      "cell_type": "markdown",
      "source": [],
      "metadata": {
        "id": "EHFYloa6NUyt"
      }
    },
    {
      "cell_type": "code",
      "source": [],
      "metadata": {
        "id": "5hzpTwRVeWx5"
      },
      "execution_count": null,
      "outputs": []
    },
    {
      "cell_type": "markdown",
      "source": [
        "Dictionaries"
      ],
      "metadata": {
        "id": "P_WNc1OFNRqP"
      }
    },
    {
      "cell_type": "code",
      "execution_count": 4,
      "metadata": {
        "id": "cvxWqOtHNLBI",
        "colab": {
          "base_uri": "https://localhost:8080/",
          "height": 106
        },
        "outputId": "46330448-eb92-459e-ad55-2e18736aa599"
      },
      "outputs": [
        {
          "output_type": "error",
          "ename": "SyntaxError",
          "evalue": "invalid syntax (<ipython-input-4-de9861ba6359>, line 13)",
          "traceback": [
            "\u001b[0;36m  File \u001b[0;32m\"<ipython-input-4-de9861ba6359>\"\u001b[0;36m, line \u001b[0;32m13\u001b[0m\n\u001b[0;31m    class = {'Mary':'Female', 'Mark':'Male', 'Seyeon':'Male'}\u001b[0m\n\u001b[0m          ^\u001b[0m\n\u001b[0;31mSyntaxError\u001b[0m\u001b[0;31m:\u001b[0m invalid syntax\n"
          ]
        }
      ],
      "source": [
        "# Define two lists\n",
        "Name = ['Mary', 'Mark', \"Seyeon\"]\n",
        "Gender = ['Female', 'Male', 'Male']\n",
        "\n",
        "# Index method\n",
        "\n",
        "ind_mary = Name.index('Mary')\n",
        "print(ind_mary)\n",
        "print(Gender[ind_mary])\n"
      ]
    },
    {
      "cell_type": "code",
      "source": [
        "# Define a dictionary\n",
        "\n",
        "my_class = {'Mary':'Female', 'Mark':'Male', 'Seyeon':'Male'}\n",
        "print(my_class)"
      ],
      "metadata": {
        "colab": {
          "base_uri": "https://localhost:8080/"
        },
        "id": "Gyou96exfbN6",
        "outputId": "a7c627c1-6f5e-416f-ced0-7d89d5ff63bb"
      },
      "execution_count": 13,
      "outputs": [
        {
          "output_type": "stream",
          "name": "stdout",
          "text": [
            "{'Mary': 'Female', 'Mark': 'Male', 'Seyeon': 'Male'}\n"
          ]
        }
      ]
    },
    {
      "cell_type": "code",
      "source": [
        "# keys in a dictionary and accessing values\n",
        "print(my_class.keys())\n",
        "print(my_class['Mark'])"
      ],
      "metadata": {
        "colab": {
          "base_uri": "https://localhost:8080/"
        },
        "id": "Qnq9GdDPfmkn",
        "outputId": "b64b6635-905b-4e74-a8df-1db9d7357120"
      },
      "execution_count": 14,
      "outputs": [
        {
          "output_type": "stream",
          "name": "stdout",
          "text": [
            "dict_keys(['Mary', 'Mark', 'Seyeon'])\n",
            "Male\n"
          ]
        }
      ]
    },
    {
      "cell_type": "markdown",
      "source": [
        "Adding a key-value pair"
      ],
      "metadata": {
        "id": "_np1s79Hf5bg"
      }
    },
    {
      "cell_type": "code",
      "source": [
        "my_class['Mina'] = 'Female'\n",
        "print('Mina' in my_class)"
      ],
      "metadata": {
        "colab": {
          "base_uri": "https://localhost:8080/"
        },
        "id": "FXfyDerXf8nf",
        "outputId": "95cb13e9-c6a1-4ac6-f08c-15b86bda262a"
      },
      "execution_count": 15,
      "outputs": [
        {
          "output_type": "stream",
          "name": "stdout",
          "text": [
            "True\n"
          ]
        }
      ]
    },
    {
      "cell_type": "markdown",
      "source": [
        "Update and Removal items"
      ],
      "metadata": {
        "id": "z3YzCLiWgKD3"
      }
    },
    {
      "cell_type": "code",
      "source": [
        "print(my_class)\n",
        "my_class['Seyeon'] = 'Female'\n",
        "del(my_class['Mina'])\n",
        "print(my_class)"
      ],
      "metadata": {
        "colab": {
          "base_uri": "https://localhost:8080/"
        },
        "id": "9e4GVZLYgJQ5",
        "outputId": "20e47b20-4cea-418e-8145-9e09160eb68f"
      },
      "execution_count": 16,
      "outputs": [
        {
          "output_type": "stream",
          "name": "stdout",
          "text": [
            "{'Mary': 'Female', 'Mark': 'Male', 'Seyeon': 'Male', 'Mina': 'Female'}\n",
            "{'Mary': 'Female', 'Mark': 'Male', 'Seyeon': 'Female'}\n"
          ]
        }
      ]
    },
    {
      "cell_type": "markdown",
      "source": [
        "Dictionaries in a dictionary"
      ],
      "metadata": {
        "id": "iOC893tNggde"
      }
    },
    {
      "cell_type": "code",
      "source": [
        "my_class = {'Mary':{'Gender': 'Female', 'Hobby': 'Basketball'}, 'Mark':{'Gender': 'Male', 'Hobby': 'Reading'}, 'Seyeon':{'Gender': 'Male', 'Hobby': 'Puzzle'}}"
      ],
      "metadata": {
        "id": "HLYviQYjgifg"
      },
      "execution_count": 20,
      "outputs": []
    },
    {
      "cell_type": "code",
      "source": [
        "print(my_class['Mary']['Hobby'])"
      ],
      "metadata": {
        "colab": {
          "base_uri": "https://localhost:8080/"
        },
        "id": "yy1qeSjphBcm",
        "outputId": "5e400baa-752e-45eb-f36a-21cb463840c8"
      },
      "execution_count": 18,
      "outputs": [
        {
          "output_type": "stream",
          "name": "stdout",
          "text": [
            "Basketball\n"
          ]
        }
      ]
    },
    {
      "cell_type": "code",
      "source": [
        "del(my_class['Seyeon']['Gender'])\n",
        "print(my_class)"
      ],
      "metadata": {
        "colab": {
          "base_uri": "https://localhost:8080/"
        },
        "id": "1jMvXHdwhF6K",
        "outputId": "3056f25b-cb60-46ef-af10-4949382c4576"
      },
      "execution_count": 21,
      "outputs": [
        {
          "output_type": "stream",
          "name": "stdout",
          "text": [
            "{'Mary': {'Gender': 'Female', 'Hobby': 'Basketball'}, 'Mark': {'Gender': 'Male', 'Hobby': 'Reading'}, 'Seyeon': {'Hobby': 'Puzzle'}}\n"
          ]
        }
      ]
    }
  ]
}