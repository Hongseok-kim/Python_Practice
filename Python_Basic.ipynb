{
  "nbformat": 4,
  "nbformat_minor": 0,
  "metadata": {
    "colab": {
      "provenance": [],
      "include_colab_link": true
    },
    "kernelspec": {
      "name": "python3",
      "display_name": "Python 3"
    },
    "language_info": {
      "name": "python"
    }
  },
  "cells": [
    {
      "cell_type": "markdown",
      "metadata": {
        "id": "view-in-github",
        "colab_type": "text"
      },
      "source": [
        "<a href=\"https://colab.research.google.com/github/Hongseok-kim/Python_Practice/blob/main/Python_Basic.ipynb\" target=\"_parent\"><img src=\"https://colab.research.google.com/assets/colab-badge.svg\" alt=\"Open In Colab\"/></a>"
      ]
    },
    {
      "cell_type": "markdown",
      "source": [],
      "metadata": {
        "id": "EHFYloa6NUyt"
      }
    },
    {
      "cell_type": "markdown",
      "source": [
        "This part of exercises is motivated by DataCamp course 'Python Toolbox'.\n",
        "\n",
        "**Iterator**\n",
        "\n",
        "Iterable:\n",
        "Iterator: Returning each iteam of iterables one at a time."
      ],
      "metadata": {
        "id": "P_WNc1OFNRqP"
      }
    },
    {
      "cell_type": "code",
      "execution_count": null,
      "metadata": {
        "id": "cvxWqOtHNLBI",
        "colab": {
          "base_uri": "https://localhost:8080/"
        },
        "outputId": "7924d228-3243-4e59-dbb4-ff33cc98ebeb"
      },
      "outputs": [
        {
          "output_type": "stream",
          "name": "stdout",
          "text": [
            "[0 1 2 3 4 5 6 7 8 9]\n"
          ]
        }
      ],
      "source": [
        "## Practice\n",
        "\n",
        "import numpy as np\n",
        "ar = np.arange(10)\n",
        "print(ar)\n"
      ]
    }
  ]
}